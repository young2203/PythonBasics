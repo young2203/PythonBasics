{
 "cells": [
  {
   "cell_type": "code",
   "execution_count": 2,
   "metadata": {
    "collapsed": false
   },
   "outputs": [
    {
     "name": "stdout",
     "output_type": "stream",
     "text": [
      "(Initializing Swaroop)\n",
      "Swaroop says bye.\n",
      "I am the last one.\n",
      "Hi, my name is Swaroop.\n",
      "We have 0 persons here.\n",
      "(Initializing Abdul Kalam)\n",
      "Abdul Kalam says bye.\n",
      "I am the last one.\n",
      "Hi, my name is Abdul Kalam.\n",
      "We have 0 persons here.\n",
      "Hi, my name is Swaroop.\n",
      "We have 0 persons here.\n"
     ]
    }
   ],
   "source": [
    "class Person:\n",
    "    '''Represents a person.'''\n",
    "    population=0\n",
    "    def __init__(self, name):\n",
    "        '''Initializes the person's data.'''\n",
    "        self.name = name\n",
    "        print('(Initializing %s)' % self.name)\n",
    "        # When this person is created, he/she\n",
    "        # adds to the population\n",
    "        Person.population += 1\n",
    "    def __del__(self):\n",
    "        '''I am dying.'''\n",
    "        print('%s says bye.' % self.name)\n",
    "        Person.population -= 1\n",
    "        if Person.population == 0:\n",
    "            print('I am the last one.')\n",
    "        else:\n",
    "            print('There are still %d people left.' % Person.population)\n",
    "    def sayHi(self):\n",
    "        '''Greeting by the person.\n",
    "        \n",
    "        Really, that's all it does.'''\n",
    "        print('Hi, my name is %s.' % self.name)\n",
    "    def howMany(self):\n",
    "        '''Prints the current population.'''\n",
    "        if Person.population == 1:\n",
    "            print('I am the only person here.')\n",
    "        else:                \n",
    "            print('We have %d persons here.' % Person.population) \n",
    "                \n",
    "swaroop = Person('Swaroop')\n",
    "swaroop.sayHi()\n",
    "swaroop.howMany()\n",
    "\n",
    "kalam = Person('Abdul Kalam')\n",
    "kalam.sayHi()\n",
    "kalam.howMany()\n",
    "\n",
    "swaroop.sayHi()\n",
    "swaroop.howMany()"
   ]
  },
  {
   "cell_type": "code",
   "execution_count": 5,
   "metadata": {
    "collapsed": false
   },
   "outputs": [
    {
     "name": "stdout",
     "output_type": "stream",
     "text": [
      "(Initialized SchoolMember: Mrs. Shrividya)\n",
      "(Initialized Teacher: Mrs. Shrividya)\n",
      "(Initialized SchoolMember: Swaroop)\n",
      "(Initialized Student: Swaroop)\n",
      "Name:\"Mrs. Shrividya\" Age:\"40\"\n",
      "Salary: \"30000\"\n",
      "Name:\"Swaroop\" Age:\"22\"\n",
      "Marks: \"75\"\n"
     ]
    }
   ],
   "source": [
    "class SchoolMember:\n",
    "    '''Represents any school member.'''\n",
    "    def __init__(self, name, age):\n",
    "        self.name = name\n",
    "        self.age = age\n",
    "        print('(Initialized SchoolMember: %s)' % self.name)\n",
    "    def tell(self):\n",
    "        '''Tell my details.'''\n",
    "        print('Name:\"%s\" Age:\"%s\"' % (self.name, self.age),)\n",
    "        \n",
    "class Teacher(SchoolMember):\n",
    "    '''Represents a teacher.'''\n",
    "    def __init__(self, name, age, salary):\n",
    "        SchoolMember.__init__(self, name, age)\n",
    "        self.salary = salary\n",
    "        print('(Initialized Teacher: %s)' % self.name)\n",
    "    def tell(self):\n",
    "        SchoolMember.tell(self)\n",
    "        print('Salary: \"%d\"' % self.salary)\n",
    "\n",
    "class Student(SchoolMember):\n",
    "    '''Represents a student.'''\n",
    "    def __init__(self, name, age, marks):\n",
    "        SchoolMember.__init__(self, name, age)\n",
    "        self.marks = marks\n",
    "        print('(Initialized Student: %s)' % self.name)\n",
    "    def tell(self):\n",
    "        SchoolMember.tell(self)\n",
    "        print('Marks: \"%d\"' % self.marks) \n",
    "\n",
    "t = Teacher('Mrs. Shrividya', 40, 30000)\n",
    "s = Student('Swaroop', 22, 75)\n",
    "print # prints a blank line\n",
    "members = [t, s]\n",
    "for member in members:\n",
    "    member.tell() # works for both Teachers and Students"
   ]
  },
  {
   "cell_type": "code",
   "execution_count": 1,
   "metadata": {
    "collapsed": false
   },
   "outputs": [
    {
     "name": "stdout",
     "output_type": "stream",
     "text": [
      "1 + 2 = 3\n",
      "1 + 2 = 3\n",
      "1 - 2 = -1\n",
      "1 * 2 = 2\n",
      "1 / 2 = 0\n",
      "Operator error\n",
      "Operator error\n"
     ]
    }
   ],
   "source": [
    "class Calculator:\n",
    "    def __init__ (self,number1,number2,operator):\n",
    "        self.number1=number1\n",
    "        self.number2=number2\n",
    "        self.operator=operator\n",
    "\n",
    "    def add_cal (self):\n",
    "        if self.operator=='+':\n",
    "            print('%d + %d = %d' % (self.number1,self.number2,self.number1+self.number2))\n",
    "        else:\n",
    "            print('Operator error')\n",
    "            \n",
    "    def minus_cal (self):\n",
    "        if self.operator=='-':\n",
    "            print('%d - %d = %d' % (self.number1,self.number2,self.number1-self.number2))\n",
    "        else:\n",
    "            print('Operator error')\n",
    "            \n",
    "    def time_cal (self):\n",
    "        if self.operator=='*':\n",
    "            print('%d * %d = %d' % (self.number1,self.number2,self.number1*self.number2))\n",
    "        else:\n",
    "            print('Operator error')\n",
    "            \n",
    "    def divide_cal (self):\n",
    "        if self.operator=='/':\n",
    "            print('%d / %d = %d' % (self.number1,self.number2,self.number1/self.number2))\n",
    "        else:\n",
    "            print('Operator error')\n",
    "            \n",
    "#class Calculator_result(Calculator):    \n",
    "#    def __init__ (self,number1,number2,operator,number3):\n",
    "#        Calculator.__init__(self,number1,number2,operator)\n",
    "#        self.number3=number3\n",
    "        \n",
    "    \n",
    "            \n",
    "new_cal=Calculator(1,2,'+')\n",
    "new_cal.add_cal()\n",
    "Calculator(1,2,'+').add_cal()\n",
    "Calculator(1,2,'-').minus_cal()\n",
    "Calculator(1,2,'*').time_cal()\n",
    "Calculator(1.0,2.0,'/').divide_cal()\n",
    "new_cal.time_cal()\n",
    "new_cal.divide_cal()"
   ]
  },
  {
   "cell_type": "code",
   "execution_count": null,
   "metadata": {
    "collapsed": true
   },
   "outputs": [],
   "source": []
  }
 ],
 "metadata": {
  "anaconda-cloud": {},
  "kernelspec": {
   "display_name": "Python [Root]",
   "language": "python",
   "name": "Python [Root]"
  },
  "language_info": {
   "codemirror_mode": {
    "name": "ipython",
    "version": 3
   },
   "file_extension": ".py",
   "mimetype": "text/x-python",
   "name": "python",
   "nbconvert_exporter": "python",
   "pygments_lexer": "ipython3",
   "version": "3.5.1"
  }
 },
 "nbformat": 4,
 "nbformat_minor": 0
}
