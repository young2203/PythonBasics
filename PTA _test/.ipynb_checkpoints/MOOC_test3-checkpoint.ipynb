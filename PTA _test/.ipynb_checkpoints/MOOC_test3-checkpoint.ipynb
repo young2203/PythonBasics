{
 "cells": [
  {
   "cell_type": "code",
   "execution_count": null,
   "metadata": {},
   "outputs": [],
   "source": [
    "# This code is designed to adjust given array/list\n",
    "# by shifting every element by M units rightwards\n",
    "# circularly\n",
    "# e.g. a= [1, 2, 3, 4, 5, 6]  M=2 -->\n",
    "# this input set will give out [5, 6, 1, 2, 3, 4]\n",
    "# sample input :\n",
    "# 6 2            (length of array, shift distance)\n",
    "# 1 2 3 4 5 6    (ellements of array)\n",
    "############## input processing #################\n",
    "InputInfo_1 = input(\"\")\n",
    "InputInfo_2 = input(\"\")\n",
    "InputList_1 = InputInfo_1.split(' ', 1)\n",
    "array_len = int( InputList_1[0] ) #get the length of array\n",
    "shift_dist = int ( InputList_1[1] ) #shift distance rightwards\n",
    "InputList_2 = InputInfo_2.split(' ', array_len-1 )\n",
    "\n",
    "originalArray = [0] * array_len #initiate a list with all 0s\n",
    "for k in range(array_len) :\n",
    "    originalArray[k] = int( InputList_2[k] ) # Transfer string var to int var\n",
    "\n",
    "shift_dist = shift_dist % array_len\n",
    "\n",
    "pre_repository = originalArray[0]  \n",
    "this_index = ( 0 + shift_dist ) % array_len \n",
    "for m in range(array_len) :\n",
    "    if (shift_dist * (m+1) ) % array_len != 0 :\n",
    "        post_repository = originalArray[this_index] \n",
    "    else:\n",
    "        post_repository = originalArray[ (this_index +1 ) % array_len]\n",
    "    originalArray[this_index] = pre_repository\n",
    "    if (shift_dist * (m+1) ) % array_len != 0 :\n",
    "        pre_repository = post_repository\n",
    "        this_index = ( this_index + shift_dist ) % array_len\n",
    "    else:   \n",
    "        pre_repository = originalArray[ (this_index +1 ) % array_len]\n",
    "        this_index = ( this_index + shift_dist + 1 ) % array_len\n",
    "        \n",
    "for n in range(array_len - 1):\n",
    "    print(originalArray[n], end =' ')\n",
    "print(originalArray[-1])\n",
    "      \n",
    "\n"
   ]
  }
 ],
 "metadata": {
  "kernelspec": {
   "display_name": "Python 3",
   "language": "python",
   "name": "python3"
  },
  "language_info": {
   "codemirror_mode": {
    "name": "ipython",
    "version": 3
   },
   "file_extension": ".py",
   "mimetype": "text/x-python",
   "name": "python",
   "nbconvert_exporter": "python",
   "pygments_lexer": "ipython3",
   "version": "3.6.2"
  }
 },
 "nbformat": 4,
 "nbformat_minor": 2
}
