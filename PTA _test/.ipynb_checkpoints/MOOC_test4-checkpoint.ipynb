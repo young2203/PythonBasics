{
 "cells": [
  {
   "cell_type": "markdown",
   "metadata": {},
   "source": [
    "#### Have Fun with Numbers（20 分）\n",
    "\n",
    "Notice that the number 123456789 is a 9-digit number consisting exactly the numbers from 1 to 9, with no duplication. Double it we will obtain 246913578, which happens to be another 9-digit number consisting exactly the numbers from 1 to 9, only in a different permutation. Check to see the result if we double it again!\n",
    "\n",
    "Now you are suppose to check if there are more numbers with this property. That is, double a given number with k digits, you are to tell if the resulting number consists of only a permutation of the digits in the original number.\n",
    "\n",
    "- Input Specification:\n",
    "Each input contains one test case. Each case contains one positive integer with no more than 20 digits.\n",
    "\n",
    "- Output Specification:\n",
    "For each test case, first print in a line \"Yes\" if doubling the input number gives a number that consists of only a permutation of the digits in the original number, or \"No\" if not. Then in the next line, print the doubled number."
   ]
  },
  {
   "cell_type": "code",
   "execution_count": 7,
   "metadata": {},
   "outputs": [
    {
     "name": "stdout",
     "output_type": "stream",
     "text": [
      "123456789\n",
      "Yes\n",
      "246913578\n"
     ]
    }
   ],
   "source": [
    "def anagramCheck(s1, s2) :\n",
    "    # Initialize standard recording table for two strings based on ASCII code\n",
    "    table_1 = [0 for i in range(10)]\n",
    "    table_2 = [0 for i in range(10)]\n",
    "    if len(s1) != len(s2):\n",
    "        return False \n",
    "    else:\n",
    "        for i in range(len(s1)):\n",
    "            table_1[ord(s1[i])-48] = table_1[ord(s1[i])-48] + 1.0\n",
    "            table_2[ord(s2[i])-48] = table_2[ord(s2[i])-48] + 1.0\n",
    "        for i in range(10):\n",
    "            if table_1[i] != table_2[i]:\n",
    "                return False\n",
    "                break\n",
    "        else:\n",
    "            return True\n",
    "\n",
    "# Get input integer\n",
    "x = int(input())\n",
    "double_x = x*2\n",
    "str_x = str(x)\n",
    "str_2x = str(double_x)        \n",
    "TF = anagramCheck(str_x, str_2x)\n",
    "if TF:\n",
    "    print('Yes')\n",
    "else:\n",
    "    print('No')\n",
    "print(str_2x)"
   ]
  },
  {
   "cell_type": "code",
   "execution_count": null,
   "metadata": {},
   "outputs": [],
   "source": []
  }
 ],
 "metadata": {
  "kernelspec": {
   "display_name": "Python 3",
   "language": "python",
   "name": "python3"
  },
  "language_info": {
   "codemirror_mode": {
    "name": "ipython",
    "version": 3
   },
   "file_extension": ".py",
   "mimetype": "text/x-python",
   "name": "python",
   "nbconvert_exporter": "python",
   "pygments_lexer": "ipython3",
   "version": "3.6.2"
  }
 },
 "nbformat": 4,
 "nbformat_minor": 2
}
