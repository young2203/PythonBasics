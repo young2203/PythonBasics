{
 "cells": [
  {
   "cell_type": "markdown",
   "metadata": {},
   "source": [
    "#### 自测-5 Shuffling Machine（20 分）\n",
    "Shuffling is a procedure used to randomize a deck of playing cards. Because standard shuffling techniques are seen as weak, and in order to avoid \"inside jobs\" where employees collaborate with gamblers by performing inadequate shuffles, many casinos employ automatic shuffling machines. Your task is to simulate a shuffling machine.\n",
    "\n",
    "The machine shuffles a deck of 54 cards according to a given random order and repeats for a given number of times. It is assumed that the initial status of a card deck is in the following order:\n",
    "\n",
    "S1, S2, ..., S13, \n",
    "H1, H2, ..., H13, \n",
    "C1, C2, ..., C13, \n",
    "D1, D2, ..., D13, \n",
    "J1, J2\n",
    "where \"S\" stands for \"Spade\", \"H\" for \"Heart\", \"C\" for \"Club\", \"D\" for \"Diamond\", and \"J\" for \"Joker\". A given order is a permutation of distinct integers in [1, 54]. If the number at the i-th position is j, it means to move the card from position i to position j. For example, suppose we only have 5 cards: S3, H5, C1, D13 and J2. Given a shuffling order {4, 2, 5, 3, 1}, the result will be: J2, H5, D13, S3, C1. If we are to repeat the shuffling again, the result will be: C1, H5, S3, J2, D13.\n",
    "\n",
    "- Input Specification:\n",
    "Each input file contains one test case. For each case, the first line contains a positive integer K (≤20) which is the number of repeat times. Then the next line contains the given order. All the numbers in a line are separated by a space.\n",
    "\n",
    "- Output Specification: \n",
    "For each test case, print the shuffling results in one line. All the cards are separated by a space, and there must be no extra space at the end of the line."
   ]
  },
  {
   "cell_type": "code",
   "execution_count": 9,
   "metadata": {},
   "outputs": [
    {
     "name": "stdout",
     "output_type": "stream",
     "text": [
      "2\n",
      "1 2 3 4 5\n"
     ]
    }
   ],
   "source": [
    "# Generate symbol list (initial card order)\n",
    "S_list = ['S'+str(i) for i in range(1,14,1)]\n",
    "H_list = ['H'+str(i) for i in range(1,14,1)]\n",
    "C_list = ['C'+str(i) for i in range(1,14,1)]\n",
    "D_list = ['D'+str(i) for i in range(1,14,1)]\n",
    "J_list = ['J'+str(i) for i in range(1,3,1)]\n",
    "card_deck = S_list + H_list + C_list + D_list + J_list\n",
    "\n",
    "# Get input info\n",
    "K = int(input()) # Repeat times\n",
    "line = input()   # Input shuffle order\n",
    "order_str = line.split()\n",
    "order_num = [0 for i in range(len(order_str))]\n",
    "for i in range(len(order_str)):\n",
    "    order_num[i] = int(order_str[i])\n",
    "\n",
    "# Start shuffling\n",
    "def shuffle(myList,order):\n",
    "    new_deck = ['' for i in range(len(myList))]\n",
    "    for i in range(len(order)):\n",
    "        new_deck[order[i]-1] = myList[i]\n",
    "    return new_deck\n",
    "\n",
    "old_deck = card_deck\n",
    "for i in range(K):\n",
    "    new_deck = shuffle(old_deck,order_num)\n",
    "    old_deck = new_deck\n",
    "    \n",
    "for i in range(len(new_deck)-1):\n",
    "    print(new_deck[i],end=' ')\n",
    "else:\n",
    "    print(new_deck[-1])"
   ]
  },
  {
   "cell_type": "code",
   "execution_count": null,
   "metadata": {},
   "outputs": [],
   "source": []
  }
 ],
 "metadata": {
  "kernelspec": {
   "display_name": "Python 3",
   "language": "python",
   "name": "python3"
  },
  "language_info": {
   "codemirror_mode": {
    "name": "ipython",
    "version": 3
   },
   "file_extension": ".py",
   "mimetype": "text/x-python",
   "name": "python",
   "nbconvert_exporter": "python",
   "pygments_lexer": "ipython3",
   "version": "3.6.2"
  }
 },
 "nbformat": 4,
 "nbformat_minor": 2
}
