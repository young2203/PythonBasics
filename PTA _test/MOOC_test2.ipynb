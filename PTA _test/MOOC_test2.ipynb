{
 "cells": [
  {
   "cell_type": "markdown",
   "metadata": {},
   "source": [
    "#### 自测-2 素数对猜想（20 分）\n",
    "“素数对猜想”认为“存在无穷多对相邻且差为2的素数”。\n",
    "\n",
    "现给定任意正整数N(<10^5)，请计算不超过N的满足猜想的素数对的个数。\n",
    "\n",
    "输入格式:\n",
    "输入在一行给出正整数N。\n",
    "\n",
    "输出格式:\n",
    "在一行中输出不超过N的满足猜想的素数对的个数"
   ]
  },
  {
   "cell_type": "code",
   "execution_count": 1,
   "metadata": {},
   "outputs": [
    {
     "name": "stdout",
     "output_type": "stream",
     "text": [
      "20\n",
      "4\n"
     ]
    }
   ],
   "source": [
    "# Sample code 1\n",
    "import math\n",
    "N = int ( input() )\n",
    "prime = [True]*(N+1)\n",
    "for i in range(2, math.floor(N/2+1) ):\n",
    "    s = i+i    \n",
    "    while s<=N:        \n",
    "        prime[s] = False        \n",
    "        s += i\n",
    "\n",
    "cnt = 0\n",
    "for i in range(5, N+1):    \n",
    "    if prime[i] and prime[i-2]:        \n",
    "        cnt += 1\n",
    "\n",
    "print(cnt)"
   ]
  },
  {
   "cell_type": "code",
   "execution_count": 2,
   "metadata": {},
   "outputs": [
    {
     "name": "stdout",
     "output_type": "stream",
     "text": [
      "20\n",
      "4\n"
     ]
    }
   ],
   "source": [
    "# Sample Code 2\n",
    "'''\n",
    "Created on Mar 11, 2017\n",
    "# This code is used to solve prime number pair guess problem\n",
    "# It will ask you to input a integer no greater than 10^5\n",
    "# then it will output the number of prime pairs which satisfy\n",
    "# the difference between these two primes exactly equal 2\n",
    "# e.g. (3,5) is a prime pair, 5 -3 = 2, thus this is a qualified\n",
    "# prime pair, (11, 7) is another pair, while 11 -7 = 4 , so this\n",
    "# is not the pair we are looking for \n",
    "@author: young\n",
    "'''\n",
    "from math import sqrt\n",
    "\n",
    "def getPrimeList ( N = 1000 ):\n",
    "    primeList = [2]\n",
    "    for num in range(3, N+1, 2) :\n",
    "        if isPrime ( num ) :\n",
    "            primeList.append(num)\n",
    "    return primeList\n",
    "\n",
    "def isPrime ( num_input ):\n",
    "    factor = 2\n",
    "    while  factor <= sqrt (num_input) :\n",
    "        if num_input % factor == 0:\n",
    "            return False\n",
    "            break\n",
    "        else :\n",
    "            factor += 1\n",
    "    else :\n",
    "        return True\n",
    "\n",
    "N = input(\"\")  # get the input Integer        \n",
    "myPrimeList = getPrimeList ( int(N) ) #get the list of prime less than N  \n",
    "  \n",
    "counter = 0\n",
    "for sub_no in range( len(myPrimeList) - 1) :\n",
    "    if myPrimeList[sub_no] + 2 == myPrimeList[sub_no+1] :\n",
    "        counter +=1\n",
    "\n",
    "print (counter)   "
   ]
  },
  {
   "cell_type": "code",
   "execution_count": null,
   "metadata": {},
   "outputs": [],
   "source": []
  }
 ],
 "metadata": {
  "kernelspec": {
   "display_name": "Python 3",
   "language": "python",
   "name": "python3"
  },
  "language_info": {
   "codemirror_mode": {
    "name": "ipython",
    "version": 3
   },
   "file_extension": ".py",
   "mimetype": "text/x-python",
   "name": "python",
   "nbconvert_exporter": "python",
   "pygments_lexer": "ipython3",
   "version": "3.6.2"
  }
 },
 "nbformat": 4,
 "nbformat_minor": 2
}
