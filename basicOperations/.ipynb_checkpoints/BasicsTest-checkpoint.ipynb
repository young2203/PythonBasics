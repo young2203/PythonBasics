{
 "cells": [
  {
   "cell_type": "markdown",
   "metadata": {},
   "source": [
    "#### Test print fucntion:"
   ]
  },
  {
   "cell_type": "code",
   "execution_count": 1,
   "metadata": {},
   "outputs": [
    {
     "name": "stdout",
     "output_type": "stream",
     "text": [
      "sssss\n",
      "1 2\n",
      "2 1\n"
     ]
    }
   ],
   "source": [
    "print('s'*5)\n",
    "\n",
    "a=1\n",
    "b=2\n",
    "print(a,b)\n",
    "c=a\n",
    "a=b\n",
    "b=c\n",
    "print(a,b)"
   ]
  },
  {
   "cell_type": "markdown",
   "metadata": {},
   "source": [
    "#### Test range function and for block:"
   ]
  },
  {
   "cell_type": "code",
   "execution_count": 2,
   "metadata": {},
   "outputs": [
    {
     "name": "stdout",
     "output_type": "stream",
     "text": [
      "1\n",
      "2\n",
      "3\n",
      "4\n",
      "This loop is over\n",
      "1\n",
      "4\n",
      "This loop is over\n",
      "0\n",
      "3\n",
      "This loop is over\n"
     ]
    },
    {
     "ename": "TypeError",
     "evalue": "'float' object cannot be interpreted as an integer",
     "output_type": "error",
     "traceback": [
      "\u001b[1;31m---------------------------------------------------------------------------\u001b[0m",
      "\u001b[1;31mTypeError\u001b[0m                                 Traceback (most recent call last)",
      "\u001b[1;32m<ipython-input-2-9aa854a69a23>\u001b[0m in \u001b[0;36m<module>\u001b[1;34m()\u001b[0m\n\u001b[0;32m     14\u001b[0m     \u001b[0mprint\u001b[0m\u001b[1;33m(\u001b[0m\u001b[1;34m'This loop is over'\u001b[0m\u001b[1;33m)\u001b[0m\u001b[1;33m\u001b[0m\u001b[0m\n\u001b[0;32m     15\u001b[0m \u001b[1;33m\u001b[0m\u001b[0m\n\u001b[1;32m---> 16\u001b[1;33m \u001b[1;32mfor\u001b[0m \u001b[0mi\u001b[0m \u001b[1;32min\u001b[0m \u001b[0mrange\u001b[0m\u001b[1;33m(\u001b[0m\u001b[1;36m1\u001b[0m\u001b[1;33m,\u001b[0m\u001b[1;36m5.5\u001b[0m\u001b[1;33m,\u001b[0m\u001b[1;36m3\u001b[0m\u001b[1;33m)\u001b[0m\u001b[1;33m:\u001b[0m\u001b[1;33m\u001b[0m\u001b[0m\n\u001b[0m\u001b[0;32m     17\u001b[0m     \u001b[0mprint\u001b[0m\u001b[1;33m(\u001b[0m\u001b[0mi\u001b[0m\u001b[1;33m)\u001b[0m\u001b[1;33m\u001b[0m\u001b[0m\n\u001b[0;32m     18\u001b[0m \u001b[1;32melse\u001b[0m\u001b[1;33m:\u001b[0m\u001b[1;33m\u001b[0m\u001b[0m\n",
      "\u001b[1;31mTypeError\u001b[0m: 'float' object cannot be interpreted as an integer"
     ]
    }
   ],
   "source": [
    "for i in range(1,5):\n",
    "    print(i)\n",
    "else:\n",
    "    print('This loop is over')\n",
    "\n",
    "for i in range(1,5,3):\n",
    "    print(i)\n",
    "else:\n",
    "    print('This loop is over')\n",
    "    \n",
    "for i in range(0,5,3):\n",
    "    print(i)\n",
    "else:\n",
    "    print('This loop is over')\n",
    "    \n",
    "for i in range(1,5.5,3):\n",
    "    print(i)\n",
    "else:\n",
    "    print('This loop is over')"
   ]
  },
  {
   "cell_type": "markdown",
   "metadata": {},
   "source": [
    "#### Test while block"
   ]
  },
  {
   "cell_type": "code",
   "execution_count": 3,
   "metadata": {},
   "outputs": [
    {
     "name": "stdout",
     "output_type": "stream",
     "text": [
      "Please input one string \n",
      "abcd\n",
      "The string length is 4\n",
      "Please input one string \n",
      "quit\n",
      "done\n"
     ]
    }
   ],
   "source": [
    "while True:\n",
    "    s=input('Please input one string \\n')\n",
    "    if s=='quit':\n",
    "        print('done')\n",
    "        break\n",
    "    print('The string length is',len(s))"
   ]
  },
  {
   "cell_type": "markdown",
   "metadata": {},
   "source": [
    "#### Test usage of function module"
   ]
  },
  {
   "cell_type": "code",
   "execution_count": 4,
   "metadata": {},
   "outputs": [
    {
     "name": "stdout",
     "output_type": "stream",
     "text": [
      "Hello world!\n",
      "******************************\n",
      "a= 6 b= 4 ,a is larger than b\n",
      "******************************\n",
      "What are words\n",
      "Xiaoying Xiaoying Xiaoying Xiaoying Xiaoying \n",
      "Xiaoying Xiaoying Xiaoying Xiaoying \n",
      "Help on function RepeatPrinting in module __main__:\n",
      "\n",
      "RepeatPrinting(message, times=1)\n",
      "    Description of Function RepeatPrinting:\n",
      "    \n",
      "    It has 2 inputs, one is 'message', which controls the string you want to display;\n",
      "    another is 'times', which controls the time of message you want to repeat.\n",
      "\n"
     ]
    }
   ],
   "source": [
    "def SayHello():\n",
    "    print('Hello world!')\n",
    "\n",
    "SayHello()\n",
    "print('*'*30)\n",
    "def CompareFunc(a,b):\n",
    "    if a>b:\n",
    "        print('a=',a,'b=',b,',a is larger than b')\n",
    "    elif a==b:\n",
    "        print('a=',a,'b=',b,',a is equal to b')\n",
    "    else:\n",
    "        print('a=',a,'b=',b,',a is smaller than b')\n",
    "\n",
    "CompareFunc(6,4)\n",
    "print('*'*30)\n",
    "def RepeatPrinting(message, times=1):  #Example about how to assign default value to variables inside a function\n",
    "    '''Description of Function RepeatPrinting:\n",
    "    \n",
    "    It has 2 inputs, one is 'message', which controls the string you want to display;\n",
    "    another is 'times', which controls the time of message you want to repeat.\n",
    "    '''\n",
    "    print(message*times)  #The variable with default value could not be the first variable\n",
    "\n",
    "RepeatPrinting('What are words')\n",
    "RepeatPrinting('Xiaoying ',5)\n",
    "RepeatPrinting(times=4,message='Xiaoying ')  #Use keyword method to assign value to function parameters\n",
    "RepeatPrinting.__doc__\n",
    "\n",
    "help(RepeatPrinting)"
   ]
  },
  {
   "cell_type": "markdown",
   "metadata": {},
   "source": [
    "#### Test interactoin with system"
   ]
  },
  {
   "cell_type": "code",
   "execution_count": 5,
   "metadata": {},
   "outputs": [
    {
     "name": "stdout",
     "output_type": "stream",
     "text": [
      "The command line arguments are:\n",
      "c:\\program files\\python36\\lib\\site-packages\\ipykernel_launcher.py\n",
      "-f\n",
      "C:\\Users\\young\\AppData\\Roaming\\jupyter\\runtime\\kernel-6c38cb4c-6e81-4018-8d46-1d8cf059b04c.json\n"
     ]
    }
   ],
   "source": [
    "import sys\n",
    "\n",
    "print('The command line arguments are:')\n",
    "\n",
    "for i in sys.argv:\n",
    "    print(i)\n",
    "\n",
    "# print('\\n\\nThe PYTHONPATH is', sys.path, '\\n')\n",
    "\n",
    "#sys.argv\n",
    "\n",
    "#import win32api, win32con\n",
    "#def click(x,y):\n",
    "#    win32api.SetCursorPos((x,y))\n",
    "#    win32api.mouse_event(win32con.MOUSEEVENTF_LEFTDOWN,x,y,0,0)\n",
    "#    win32api.mouse_event(win32con.MOUSEEVENTF_LEFTUP,x,y,0,0)\n",
    "#click(10,10)"
   ]
  },
  {
   "cell_type": "markdown",
   "metadata": {},
   "source": [
    "#### Test import function"
   ]
  },
  {
   "cell_type": "code",
   "execution_count": 6,
   "metadata": {},
   "outputs": [
    {
     "name": "stdout",
     "output_type": "stream",
     "text": [
      "5\n",
      "6\n",
      "This is a multi-line string.\n",
      "This is the second line.\n",
      "This is a multi-line string. \n",
      "This is the second line.\n",
      "This is a multi-line string. \n",
      "This is the second line.\n",
      "This is how we use natural string \\n. #\n",
      "This is a string. This continues the string.\n",
      "Area is 10\n",
      "Perimeter is 2Perimeter is 2Perimeter is 2Perimeter is 2Perimeter is 2Perimeter is 2Perimeter is 2\n"
     ]
    }
   ],
   "source": [
    "import test_code_1_string\n",
    "import test_code_2_expression"
   ]
  },
  {
   "cell_type": "code",
   "execution_count": 7,
   "metadata": {},
   "outputs": [
    {
     "name": "stdout",
     "output_type": "stream",
     "text": [
      "Hello World\n",
      "Hello world!\n",
      "Hello world!\n"
     ]
    }
   ],
   "source": [
    "import helloworld\n",
    "\n",
    "helloworld.SayHello()"
   ]
  },
  {
   "cell_type": "markdown",
   "metadata": {},
   "source": [
    "#### Test usage of list"
   ]
  },
  {
   "cell_type": "code",
   "execution_count": 8,
   "metadata": {},
   "outputs": [
    {
     "name": "stdout",
     "output_type": "stream",
     "text": [
      "One apple\n",
      "Two bananas\n",
      "Milk\n",
      "Cereal\n",
      "Loop is over\n",
      "Now the new shopping list is: ['One apple', 'Two bananas', 'Milk', 'Cereal', 'Rice']\n",
      "The shopping list after sorting: ['Cereal', 'Milk', 'One apple', 'Rice', 'Two bananas']\n",
      "The first item in this shopping list is:\n",
      "Cereal\n",
      "('elephant', 'tiger', 'lion')\n",
      "('penguin', 'rabbit', ('elephant', 'tiger', 'lion'))\n",
      "(('penguin', 'rabbit', ('elephant', 'tiger', 'lion')), ['Monkey', 'Whale', 'Panda'])\n",
      "(('penguin', 'rabbit', ('elephant', 'tiger', 'lion')), ['Monkey', 'Panda', 'Rat'])\n",
      "Rat\n",
      "lion\n",
      "We not only have Rat but also have lion\n",
      "************************************************************\n",
      "['One apple', 'Two bananas', 'Milk', 'Cereal']\n",
      "Two bananas\n",
      "Cereal\n",
      "['Two bananas', 'Milk']\n",
      "['One apple', 'Two bananas', 'Milk', 'Cereal']\n",
      "['Milk', 'Cereal']\n",
      "************************************************************\n",
      "['banana', 'pear', 'watermalon']\n",
      "['banana', 'pear', 'watermalon']\n",
      "['banana', 'pear', 'watermalon']\n",
      "['banana', 'pear', 'watermalon']\n",
      "['banana', 'pear', 'watermalon']\n",
      "['apple', 'banana', 'pear', 'watermalon']\n",
      "['apple', 'banana', 'pear', 'watermalon']\n",
      "['banana', 'pear', 'watermalon']\n"
     ]
    }
   ],
   "source": [
    "#Usage of list\n",
    "#This is my shoppping list\n",
    "shopping_list=['One apple','Two bananas','Milk','Cereal']\n",
    "for item in shopping_list:\n",
    "    print(item)\n",
    "print('Loop is over')\n",
    "\n",
    "shopping_list.append('Rice')\n",
    "print('Now the new shopping list is:',shopping_list)\n",
    "\n",
    "shopping_list.sort()\n",
    "print('The shopping list after sorting:',shopping_list)\n",
    "\n",
    "print('The first item in this shopping list is:')\n",
    "print(shopping_list[0])\n",
    "\n",
    "\n",
    "#Usage of tuple\n",
    "zoo=('elephant','tiger','lion')\n",
    "print(zoo)\n",
    "new_zoo=('penguin','rabbit',zoo)\n",
    "print(new_zoo)\n",
    "#Next define a list\n",
    "mammals=['Monkey','Whale','Panda']\n",
    "new_zoo=(new_zoo,mammals)\n",
    "print(new_zoo)\n",
    "#Delete one item in the mammals list\n",
    "del mammals[1]\n",
    "#Add one more item in the mammals list\n",
    "mammals.append('Rat')\n",
    "print(new_zoo)\n",
    "print(new_zoo[1][2])\n",
    "print(new_zoo[0][2][2])\n",
    "print('We not only have %s but also have %s'%(new_zoo[1][2],new_zoo[0][2][2]))\n",
    "\n",
    "print('*'*60)\n",
    "shopping_list=['One apple','Two bananas','Milk','Cereal']\n",
    "print(shopping_list)\n",
    "print(shopping_list[1])\n",
    "print(shopping_list[-1])\n",
    "print(shopping_list[1:-1])\n",
    "print(shopping_list[:])\n",
    "print(shopping_list[2:])\n",
    "\n",
    "print('*'*60)\n",
    "mylist=['apple','banana','pear','watermalon']\n",
    "copylist=mylist;\n",
    "del mylist[0]\n",
    "print(mylist)\n",
    "print(copylist)\n",
    "\n",
    "mylist=['apple','banana','pear','watermalon']\n",
    "copylist=mylist;\n",
    "del copylist[0]\n",
    "print(mylist)\n",
    "print(copylist)\n",
    "\n",
    "mylist=['apple','banana','pear','watermalon']\n",
    "copylist=mylist[:]\n",
    "del mylist[0]\n",
    "print(mylist)\n",
    "print(copylist)\n",
    "\n",
    "mylist=['apple','banana','pear','watermalon']\n",
    "copylist=mylist[:]\n",
    "del copylist[0]\n",
    "print(mylist)\n",
    "print(copylist)"
   ]
  },
  {
   "cell_type": "markdown",
   "metadata": {},
   "source": [
    "#### Test of dictionary"
   ]
  },
  {
   "cell_type": "code",
   "execution_count": 9,
   "metadata": {},
   "outputs": [
    {
     "name": "stdout",
     "output_type": "stream",
     "text": [
      "Swaroop's address is swaroopch@byteofpython.info\n",
      "\n",
      "There are 4 contacts in the address-book\n",
      "\n",
      "Contact Swaroop at swaroopch@byteofpython.info\n",
      "Contact Larry at larry@wall.org\n",
      "Contact Matsumoto at matz@ruby-lang.org\n",
      "Contact Guido at guido@python.org\n",
      "Contact names are ('Swaroop', 'swaroopch@byteofpython.info') xixi\n",
      "Contact names are ('Larry', 'larry@wall.org') xixi\n",
      "Contact names are ('Matsumoto', 'matz@ruby-lang.org') xixi\n",
      "Contact names are ('Guido', 'guido@python.org') xixi\n",
      "Contacts are Swaroop : swaroopch@byteofpython.info\n",
      "Contacts are Larry : larry@wall.org\n",
      "Contacts are Matsumoto : matz@ruby-lang.org\n",
      "Contacts are Guido : guido@python.org\n",
      "Contact e-mail addresses are: ('Swaroop', 'swaroopch@byteofpython.info') haha\n",
      "Contact e-mail addresses are: ('Larry', 'larry@wall.org') haha\n",
      "Contact e-mail addresses are: ('Matsumoto', 'matz@ruby-lang.org') haha\n",
      "Contact e-mail addresses are: ('Guido', 'guido@python.org') haha\n",
      "\n",
      "Guido's address is guido@python.org\n"
     ]
    }
   ],
   "source": [
    "#Usage of dict structure\n",
    "#dict structure is defined as {key name1:key value 1, key name2:key value 2...}\n",
    "ab = { 'Swaroop' : 'swaroopch@byteofpython.info',\n",
    "        'Larry' : 'larry@wall.org',\n",
    "        'Matsumoto' : 'matz@ruby-lang.org',\n",
    "        'Spammer' : 'spammer@hotmail.com'\n",
    "    }\n",
    "print(\"Swaroop's address is %s\" % ab['Swaroop'])\n",
    "# Adding a key/value pair\n",
    "ab['Guido'] = 'guido@python.org'\n",
    "# Deleting a key/value pair\n",
    "del ab['Spammer']\n",
    "print ('\\nThere are %d contacts in the address-book\\n' % len(ab))\n",
    "for name, address in ab.items():\n",
    "    print('Contact %s at %s' % (name, address))\n",
    "    \n",
    "for name_1 in ab.items():\n",
    "    print('Contact names are %s %s' % (name_1,'xixi'))\n",
    "\n",
    "for name_2 in ab.items():\n",
    "    print('Contacts are %s : %s' % name_2)\n",
    "    \n",
    "for address_1 in ab.items():\n",
    "    print('Contact e-mail addresses are: %s %s' % (address_1,'haha'))\n",
    "\n",
    "if 'Guido' in ab: # OR ab.has_key('Guido')\n",
    "    print(\"\\nGuido's address is %s\" % ab['Guido'])\n",
    "    \n"
   ]
  },
  {
   "cell_type": "markdown",
   "metadata": {},
   "source": [
    "#### Test of class (OOP)"
   ]
  },
  {
   "cell_type": "code",
   "execution_count": 10,
   "metadata": {},
   "outputs": [
    {
     "name": "stdout",
     "output_type": "stream",
     "text": [
      "<__main__.Person object at 0x0000021AF48318D0>\n",
      "New test start from here:\n",
      "***\n",
      "Hello world!\n",
      "Hello world!\n",
      "None\n"
     ]
    }
   ],
   "source": [
    "class Person:\n",
    "    pass #Create one empty class\n",
    "\n",
    "p=Person() #Create one instance\n",
    "print(p)\n",
    "\n",
    "#New test\n",
    "print('New test start from here:')\n",
    "class New_world:\n",
    "    def SayHiToWorld(self):\n",
    "        print('Hello world!')\n",
    "\n",
    "q=New_world()\n",
    "print('***')\n",
    "w=q.SayHiToWorld()\n",
    "p=New_world().SayHiToWorld() #Create one instance\n",
    "print(p)"
   ]
  },
  {
   "cell_type": "code",
   "execution_count": 11,
   "metadata": {},
   "outputs": [
    {
     "name": "stdout",
     "output_type": "stream",
     "text": [
      "(Initializing Swaroop)\n",
      "Hi, my name is Swaroop.\n",
      "I am the only person here.\n",
      "(Initializing Abdul Kalam)\n",
      "Hi, my name is Abdul Kalam.\n",
      "We have 2 persons here.\n",
      "Hi, my name is Swaroop.\n",
      "We have 2 persons here.\n",
      "Swaroop says bye.\n",
      "There are still 1 people left.\n",
      "Abdul Kalam says bye.\n",
      "I am the last one.\n"
     ]
    }
   ],
   "source": [
    "class Person:\n",
    "    '''Represents a person.'''\n",
    "    population=0\n",
    "    def __init__(self, name):\n",
    "        '''Initializes the person's data.'''\n",
    "        self.name = name\n",
    "        print('(Initializing %s)' % self.name)\n",
    "        # When this person is created, he/she\n",
    "        # adds to the population\n",
    "        Person.population += 1\n",
    "    def __del__(self):\n",
    "        '''I am dying.'''\n",
    "        print('%s says bye.' % self.name)\n",
    "        Person.population -= 1\n",
    "        if Person.population == 0:\n",
    "            print('I am the last one.')\n",
    "        else:\n",
    "            print('There are still %d people left.' % Person.population)\n",
    "    def sayHi(self):\n",
    "        '''Greeting by the person.\n",
    "        \n",
    "        Really, that's all it does.'''\n",
    "        print('Hi, my name is %s.' % self.name)\n",
    "    def howMany(self):\n",
    "        '''Prints the current population.'''\n",
    "        if Person.population == 1:\n",
    "            print('I am the only person here.')\n",
    "        else:                \n",
    "            print('We have %d persons here.' % Person.population) \n",
    "                \n",
    "swaroop = Person('Swaroop')\n",
    "swaroop.sayHi()\n",
    "swaroop.howMany()\n",
    "\n",
    "kalam = Person('Abdul Kalam')\n",
    "kalam.sayHi()\n",
    "kalam.howMany()\n",
    "\n",
    "swaroop.sayHi()\n",
    "swaroop.howMany()\n",
    "\n",
    "del swaroop\n",
    "del kalam"
   ]
  },
  {
   "cell_type": "markdown",
   "metadata": {},
   "source": [
    "#### Some simple examples"
   ]
  },
  {
   "cell_type": "code",
   "execution_count": 13,
   "metadata": {},
   "outputs": [
    {
     "name": "stdout",
     "output_type": "stream",
     "text": [
      "54\n",
      "6\n"
     ]
    }
   ],
   "source": [
    "# Example 1\n",
    "import math\n",
    "N = int ( input() )\n",
    "prime = [True]*(N+1)\n",
    "for i in range(2, math.floor(N/2+1) ):\n",
    "    s = i+i    \n",
    "    while s<=N:        \n",
    "        prime[s] = False        \n",
    "        s += i\n",
    "\n",
    "cnt = 0\n",
    "for i in range(5, N+1):    \n",
    "    if prime[i] and prime[i-2]:        \n",
    "        cnt += 1\n",
    "\n",
    "print(cnt)"
   ]
  },
  {
   "cell_type": "code",
   "execution_count": 14,
   "metadata": {},
   "outputs": [
    {
     "name": "stdout",
     "output_type": "stream",
     "text": [
      "5 2\n",
      "1 2 3 4 5\n"
     ]
    }
   ],
   "source": [
    "# Example 2\n",
    "InputInfo_1 = input(\"\")\n",
    "InputInfo_2 = input(\"\")\n",
    "InputList_1 = InputInfo_1.split(' ', 1)\n",
    "array_len = ord(InputList_1[0]) - ord('1') + 1  #get the length of array\n",
    "shift_dist = ord(InputList_1[1]) - ord('1') + 1 #shift distance rightwards\n",
    "InputList_2 = InputInfo_2.split(' ', array_len-1 )"
   ]
  }
 ],
 "metadata": {
  "anaconda-cloud": {},
  "kernelspec": {
   "display_name": "Python 3",
   "language": "python",
   "name": "python3"
  },
  "language_info": {
   "codemirror_mode": {
    "name": "ipython",
    "version": 3
   },
   "file_extension": ".py",
   "mimetype": "text/x-python",
   "name": "python",
   "nbconvert_exporter": "python",
   "pygments_lexer": "ipython3",
   "version": "3.6.2"
  }
 },
 "nbformat": 4,
 "nbformat_minor": 1
}
