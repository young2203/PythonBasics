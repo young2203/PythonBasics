{
 "cells": [
  {
   "cell_type": "code",
   "execution_count": 2,
   "metadata": {},
   "outputs": [
    {
     "name": "stdout",
     "output_type": "stream",
     "text": [
      "5\n",
      "6\n",
      "This is a multi-line string.\n",
      "This is the second line.\n",
      "This is a multi-line string. \n",
      "This is the second line.\n",
      "This is a multi-line string. \n",
      "This is the second line.\n",
      "This is how we use natural string \\n. #\n",
      "This is a string. This continues the string.\n"
     ]
    }
   ],
   "source": [
    "# Filename : var.py\n",
    "i = 5\n",
    "print(i)\n",
    "i = i + 1\n",
    "print(i)\n",
    "s = '''This is a multi-line string.\n",
    "This is the second line.'''\n",
    "print(s)\n",
    "s = 'This is a multi-line string. \\nThis is the second line.'\n",
    "print(s)\n",
    "s = \"This is a multi-line string. \\nThis is the second line.\"\n",
    "print(s)\n",
    "s_n = r\"This is how we use natural string \\n. #\"\n",
    "print(s_n)\n",
    "s = 'This is a string. \\\n",
    "This continues the string.'\n",
    "print(s)"
   ]
  },
  {
   "cell_type": "code",
   "execution_count": 3,
   "metadata": {},
   "outputs": [
    {
     "name": "stdout",
     "output_type": "stream",
     "text": [
      "5\n"
     ]
    }
   ],
   "source": [
    "# Filename : var.py\n",
    "i = 5\n",
    "print(i)"
   ]
  },
  {
   "cell_type": "code",
   "execution_count": null,
   "metadata": {
    "collapsed": true
   },
   "outputs": [],
   "source": []
  }
 ],
 "metadata": {
  "kernelspec": {
   "display_name": "Python 3",
   "language": "python",
   "name": "python3"
  },
  "language_info": {
   "codemirror_mode": {
    "name": "ipython",
    "version": 3
   },
   "file_extension": ".py",
   "mimetype": "text/x-python",
   "name": "python",
   "nbconvert_exporter": "python",
   "pygments_lexer": "ipython3",
   "version": "3.6.2"
  }
 },
 "nbformat": 4,
 "nbformat_minor": 1
}
