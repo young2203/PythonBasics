{
 "cells": [
  {
   "cell_type": "code",
   "execution_count": 33,
   "metadata": {
    "collapsed": false
   },
   "outputs": [
    {
     "name": "stdout",
     "output_type": "stream",
     "text": [
      "0\n",
      "High speed photo Cycle 1\n",
      "High speed photo Cycle 2\n",
      "High speed photo Cycle 3\n",
      "High speed photo Cycle 4\n"
     ]
    },
    {
     "ename": "KeyboardInterrupt",
     "evalue": "",
     "output_type": "error",
     "traceback": [
      "\u001b[1;31m---------------------------------------------------------------------------\u001b[0m",
      "\u001b[1;31mKeyboardInterrupt\u001b[0m                         Traceback (most recent call last)",
      "\u001b[1;32m<ipython-input-33-53c70791f984>\u001b[0m in \u001b[0;36m<module>\u001b[1;34m()\u001b[0m\n\u001b[0;32m     21\u001b[0m     \u001b[1;31m#Move curse to camera control button\u001b[0m\u001b[1;33m\u001b[0m\u001b[1;33m\u001b[0m\u001b[0m\n\u001b[0;32m     22\u001b[0m     \u001b[0mwin32api\u001b[0m\u001b[1;33m.\u001b[0m\u001b[0mmouse_event\u001b[0m\u001b[1;33m(\u001b[0m\u001b[0mwin32con\u001b[0m\u001b[1;33m.\u001b[0m\u001b[0mMOUSEEVENTF_ABSOLUTE\u001b[0m\u001b[1;33m|\u001b[0m\u001b[0mwin32con\u001b[0m\u001b[1;33m.\u001b[0m\u001b[0mMOUSEEVENTF_MOVE\u001b[0m\u001b[1;33m,\u001b[0m\u001b[1;36m63000\u001b[0m\u001b[1;33m,\u001b[0m\u001b[1;36m7000\u001b[0m\u001b[1;33m)\u001b[0m\u001b[1;33m\u001b[0m\u001b[0m\n\u001b[1;32m---> 23\u001b[1;33m     \u001b[0mtime\u001b[0m\u001b[1;33m.\u001b[0m\u001b[0msleep\u001b[0m\u001b[1;33m(\u001b[0m\u001b[1;36m5.0\u001b[0m\u001b[1;33m)\u001b[0m \u001b[1;31m#Wait for 5.0 secs, make sure EOS software is ready for operation\u001b[0m\u001b[1;33m\u001b[0m\u001b[0m\n\u001b[0m\u001b[0;32m     24\u001b[0m     \u001b[0mprint\u001b[0m\u001b[1;33m(\u001b[0m\u001b[1;34m'High speed photo Cycle'\u001b[0m\u001b[1;33m,\u001b[0m \u001b[0mcounter\u001b[0m\u001b[1;33m)\u001b[0m\u001b[1;33m\u001b[0m\u001b[0m\n\u001b[0;32m     25\u001b[0m     \u001b[0mwin32api\u001b[0m\u001b[1;33m.\u001b[0m\u001b[0mmouse_event\u001b[0m\u001b[1;33m(\u001b[0m\u001b[0mwin32con\u001b[0m\u001b[1;33m.\u001b[0m\u001b[0mMOUSEEVENTF_LEFTDOWN\u001b[0m\u001b[1;33m,\u001b[0m \u001b[1;36m0\u001b[0m\u001b[1;33m,\u001b[0m \u001b[1;36m0\u001b[0m\u001b[1;33m)\u001b[0m\u001b[1;33m\u001b[0m\u001b[0m\n",
      "\u001b[1;31mKeyboardInterrupt\u001b[0m: "
     ]
    }
   ],
   "source": [
    "import os\n",
    "import time\n",
    "import win32gui\n",
    "import win32api\n",
    "import win32con\n",
    "\n",
    "title='EOS Utility'\n",
    "w1hd=win32gui.FindWindow(0,title)\n",
    "print(w1hd)\n",
    "\n",
    "counter=0;\n",
    "while (1):\n",
    "    counter=counter+1\n",
    "    handle2=win32gui.SetActiveWindow(w1hd) #Activate specific window\n",
    "    #Click window title for one time to make sure it is activated\n",
    "    win32api.mouse_event(win32con.MOUSEEVENTF_ABSOLUTE|win32con.MOUSEEVENTF_MOVE,58000,100) \n",
    "    win32api.mouse_event(win32con.MOUSEEVENTF_LEFTDOWN, 0, 0) \n",
    "    time.sleep(0.005) \n",
    "    win32api.mouse_event(win32con.MOUSEEVENTF_LEFTUP, 0, 0)\n",
    "\n",
    "    #Move curse to camera control button\n",
    "    win32api.mouse_event(win32con.MOUSEEVENTF_ABSOLUTE|win32con.MOUSEEVENTF_MOVE,63000,7000)\n",
    "    time.sleep(5.0) #Wait for 5.0 secs, make sure EOS software is ready for operation\n",
    "    print('High speed photo Cycle', counter)\n",
    "    win32api.mouse_event(win32con.MOUSEEVENTF_LEFTDOWN, 0, 0) \n",
    "    time.sleep(15.0) #Loing duration click, lasting for 15.0 secs\n",
    "    win32api.mouse_event(win32con.MOUSEEVENTF_LEFTUP, 0, 0)\n",
    "\n",
    "print('end')"
   ]
  },
  {
   "cell_type": "code",
   "execution_count": 35,
   "metadata": {
    "collapsed": false
   },
   "outputs": [
    {
     "name": "stdout",
     "output_type": "stream",
     "text": [
      "Help on built-in function mouse_event in module win32api:\n",
      "\n",
      "mouse_event(...)\n",
      "\n"
     ]
    }
   ],
   "source": [
    "help(win32api.mouse_event)"
   ]
  },
  {
   "cell_type": "code",
   "execution_count": null,
   "metadata": {
    "collapsed": true
   },
   "outputs": [],
   "source": []
  }
 ],
 "metadata": {
  "kernelspec": {
   "display_name": "Python [Root]",
   "language": "python",
   "name": "Python [Root]"
  },
  "language_info": {
   "codemirror_mode": {
    "name": "ipython",
    "version": 3
   },
   "file_extension": ".py",
   "mimetype": "text/x-python",
   "name": "python",
   "nbconvert_exporter": "python",
   "pygments_lexer": "ipython3",
   "version": "3.5.1"
  }
 },
 "nbformat": 4,
 "nbformat_minor": 0
}
